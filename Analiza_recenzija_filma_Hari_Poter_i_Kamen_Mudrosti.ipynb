{
  "nbformat": 4,
  "nbformat_minor": 0,
  "metadata": {
    "colab": {
      "name": "Analiza recenzija filma Hari Poter i Kamen Mudrosti.ipynb",
      "provenance": []
    },
    "kernelspec": {
      "name": "python3",
      "display_name": "Python 3"
    },
    "language_info": {
      "name": "python"
    }
  },
  "cells": [
    {
      "cell_type": "code",
      "execution_count": 11,
      "metadata": {
        "colab": {
          "base_uri": "https://localhost:8080/",
          "height": 606
        },
        "id": "HEE8HvwbFfOn",
        "outputId": "aaf3d003-491f-410d-92a4-2526eeab8363"
      },
      "outputs": [
        {
          "output_type": "display_data",
          "data": {
            "text/plain": [
              "<Figure size 720x720 with 1 Axes>"
            ],
            "image/png": "[encoded data removed]"
          },
          "metadata": {}
        }
      ],
      "source": [
        "import pandas as pd\n",
        "import matplotlib\n",
        "import seaborn as sns\n",
        "from textblob import TextBlob\n",
        "from matplotlib import pyplot as plt\n",
        "\n",
        "bloblist_desc = list()\n",
        "df_comments = pd.read_csv (r'./Recenzije filma Hari Poter i Kamen Mudrosti.csv')\n",
        "df=pd.DataFrame\n",
        "\n",
        "\n",
        "for row in df_comments:\n",
        "    blob = TextBlob(row)\n",
        "    bloblist_desc.append((row,blob.sentiment.polarity, blob.sentiment.subjectivity))\n",
        "    df_comments_polarity_desc = pd.DataFrame(bloblist_desc, columns = ['sentence','sentiment','polarity'])\n",
        " \n",
        "def f(df_comments_polarity_desc):\n",
        "    if df_comments_polarity_desc['sentiment'] > 0:\n",
        "        val = \"Pozitivni\"\n",
        "    elif df_comments_polarity_desc['sentiment'] == 0:\n",
        "        val = \"Neutralni\"\n",
        "    else:\n",
        "        val = \"Negativni\"\n",
        "    return val\n",
        "\n",
        "df_comments_polarity_desc['Sentiment_Type'] = df_comments_polarity_desc.apply(f, axis=1)\n",
        "\n",
        "plt.figure(figsize=(10,10))\n",
        "sns.set_style(\"whitegrid\")\n",
        "ax = sns.countplot(x=\"Sentiment_Type\", data=df_comments_polarity_desc)"
      ]
    }
  ]
}