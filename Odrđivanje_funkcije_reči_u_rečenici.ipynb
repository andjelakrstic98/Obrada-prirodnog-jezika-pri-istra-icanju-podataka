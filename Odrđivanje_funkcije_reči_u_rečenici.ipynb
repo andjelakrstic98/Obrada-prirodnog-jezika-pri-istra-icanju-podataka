{
  "nbformat": 4,
  "nbformat_minor": 0,
  "metadata": {
    "colab": {
      "name": "Odrđivanje funkcije reči u rečenici.ipynb",
      "provenance": []
    },
    "kernelspec": {
      "name": "python3",
      "display_name": "Python 3"
    },
    "language_info": {
      "name": "python"
    }
  },
  "cells": [
    {
      "cell_type": "code",
      "execution_count": 18,
      "metadata": {
        "id": "yfpimX8erc8X",
        "colab": {
          "base_uri": "https://localhost:8080/"
        },
        "outputId": "41310c8b-bab6-4f0e-dc92-0a6dd5396531"
      },
      "outputs": [
        {
          "output_type": "stream",
          "name": "stdout",
          "text": [
            "[nltk_data] Downloading package punkt to /root/nltk_data...\n",
            "[nltk_data]   Package punkt is already up-to-date!\n",
            "[nltk_data] Downloading package averaged_perceptron_tagger to\n",
            "[nltk_data]     /root/nltk_data...\n",
            "[nltk_data]   Package averaged_perceptron_tagger is already up-to-\n",
            "[nltk_data]       date!\n"
          ]
        },
        {
          "output_type": "execute_result",
          "data": {
            "text/plain": [
              "[('Some', 'DT'),\n",
              " ('say', 'VBP'),\n",
              " ('the', 'DT'),\n",
              " ('world', 'NN'),\n",
              " ('will', 'MD'),\n",
              " ('end', 'VB'),\n",
              " ('in', 'IN'),\n",
              " ('fire', 'NN'),\n",
              " (',', ','),\n",
              " ('Some', 'DT'),\n",
              " ('say', 'VBP'),\n",
              " ('in', 'IN'),\n",
              " ('ice', 'NN'),\n",
              " ('.', '.'),\n",
              " ('From', 'IN'),\n",
              " ('what', 'WP'),\n",
              " ('I', 'PRP'),\n",
              " ('’', 'VBP'),\n",
              " ('ve', 'RB'),\n",
              " ('tasted', 'VBN'),\n",
              " ('of', 'IN'),\n",
              " ('desire', 'NN'),\n",
              " ('I', 'PRP'),\n",
              " ('hold', 'VBP'),\n",
              " ('with', 'IN'),\n",
              " ('those', 'DT'),\n",
              " ('who', 'WP'),\n",
              " ('favor', 'VBP'),\n",
              " ('fire', 'NN'),\n",
              " ('.', '.')]"
            ]
          },
          "metadata": {},
          "execution_count": 18
        }
      ],
      "source": [
        "import pandas\n",
        "import nltk\n",
        "nltk.download('punkt')\n",
        "nltk.download('averaged_perceptron_tagger')\n",
        "import matplotlib\n",
        "\n",
        "from nltk.tokenize import word_tokenize\n",
        "\n",
        "pesma = \"\"\"Some say the world will end in fire,\n",
        "Some say in ice.\n",
        "From what I’ve tasted of desire\n",
        "I hold with those who favor fire.\"\"\"\n",
        "\n",
        "words_in_pesma = word_tokenize(pesma)\n",
        "\n",
        "nltk.pos_tag(words_in_pesma)"
      ]
    }
  ]
}